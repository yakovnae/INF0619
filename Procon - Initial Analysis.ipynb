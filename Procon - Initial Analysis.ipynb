{
 "cells": [
  {
   "cell_type": "code",
   "execution_count": 2,
   "metadata": {},
   "outputs": [
    {
     "name": "stdout",
     "output_type": "stream",
     "text": [
      "['reclamacoes-fundamentadas-sindec-2012.csv', 'reclamacoes-fundamentadas-sindec-2013.csv', 'reclamacoes-fundamentadas-sindec-2016.csv', 'reclamacoes-fundamentadas-sindec-2015.csv', 'reclamacoes-fundamentadas-sindec-2014.csv']\n"
     ]
    }
   ],
   "source": [
    "import numpy as np\n",
    "import pandas as pd\n",
    "\n",
    "import os\n",
    "print(os.listdir(\"./dados\"))"
   ]
  },
  {
   "cell_type": "code",
   "execution_count": 3,
   "metadata": {},
   "outputs": [
    {
     "name": "stderr",
     "output_type": "stream",
     "text": [
      "/home/venturus/.conda/envs/inf618/lib/python3.6/site-packages/IPython/core/interactiveshell.py:3018: DtypeWarning: Columns (22) have mixed types. Specify dtype option on import or set low_memory=False.\n",
      "  interactivity=interactivity, compiler=compiler, result=result)\n"
     ]
    }
   ],
   "source": [
    "df_reclamacoes_2012 = pd.read_csv('./dados/reclamacoes-fundamentadas-sindec-2012.csv', error_bad_lines=False)\n",
    "df_reclamacoes_2013 = pd.read_csv('./dados/reclamacoes-fundamentadas-sindec-2013.csv', error_bad_lines=False)\n",
    "df_reclamacoes_2014 = pd.read_csv('./dados/reclamacoes-fundamentadas-sindec-2014.csv', error_bad_lines=False)\n",
    "df_reclamacoes_2015 = pd.read_csv('./dados/reclamacoes-fundamentadas-sindec-2015.csv', error_bad_lines=False)\n",
    "df_reclamacoes_2016 = pd.read_csv('./dados/reclamacoes-fundamentadas-sindec-2016.csv', error_bad_lines=False)"
   ]
  },
  {
   "cell_type": "code",
   "execution_count": 4,
   "metadata": {},
   "outputs": [
    {
     "data": {
      "text/html": [
       "<div>\n",
       "<style scoped>\n",
       "    .dataframe tbody tr th:only-of-type {\n",
       "        vertical-align: middle;\n",
       "    }\n",
       "\n",
       "    .dataframe tbody tr th {\n",
       "        vertical-align: top;\n",
       "    }\n",
       "\n",
       "    .dataframe thead th {\n",
       "        text-align: right;\n",
       "    }\n",
       "</style>\n",
       "<table border=\"1\" class=\"dataframe\">\n",
       "  <thead>\n",
       "    <tr style=\"text-align: right;\">\n",
       "      <th></th>\n",
       "      <th>length</th>\n",
       "    </tr>\n",
       "  </thead>\n",
       "  <tbody>\n",
       "    <tr>\n",
       "      <th>2012</th>\n",
       "      <td>211076</td>\n",
       "    </tr>\n",
       "    <tr>\n",
       "      <th>2013</th>\n",
       "      <td>268096</td>\n",
       "    </tr>\n",
       "    <tr>\n",
       "      <th>2014</th>\n",
       "      <td>267764</td>\n",
       "    </tr>\n",
       "    <tr>\n",
       "      <th>2015</th>\n",
       "      <td>255650</td>\n",
       "    </tr>\n",
       "    <tr>\n",
       "      <th>2016</th>\n",
       "      <td>203486</td>\n",
       "    </tr>\n",
       "  </tbody>\n",
       "</table>\n",
       "</div>"
      ],
      "text/plain": [
       "      length\n",
       "2012  211076\n",
       "2013  268096\n",
       "2014  267764\n",
       "2015  255650\n",
       "2016  203486"
      ]
     },
     "execution_count": 4,
     "metadata": {},
     "output_type": "execute_result"
    }
   ],
   "source": [
    "pd_columns = ['length']\n",
    "pd_index   = ['2012', '2013', \"2014\", \"2015\", \"2016\"]\n",
    "pd_data    = [len(df_reclamacoes_2012), len(df_reclamacoes_2013), len(df_reclamacoes_2014), len(df_reclamacoes_2015), len(df_reclamacoes_2016)]\n",
    "\n",
    "pd.DataFrame(pd_data, index = pd_index, columns = pd_columns)"
   ]
  },
  {
   "cell_type": "code",
   "execution_count": 5,
   "metadata": {},
   "outputs": [
    {
     "data": {
      "text/html": [
       "<div>\n",
       "<style scoped>\n",
       "    .dataframe tbody tr th:only-of-type {\n",
       "        vertical-align: middle;\n",
       "    }\n",
       "\n",
       "    .dataframe tbody tr th {\n",
       "        vertical-align: top;\n",
       "    }\n",
       "\n",
       "    .dataframe thead th {\n",
       "        text-align: right;\n",
       "    }\n",
       "</style>\n",
       "<table border=\"1\" class=\"dataframe\">\n",
       "  <thead>\n",
       "    <tr style=\"text-align: right;\">\n",
       "      <th></th>\n",
       "      <th>AnoCalendario</th>\n",
       "      <th>DataArquivamento</th>\n",
       "      <th>DataAbertura</th>\n",
       "      <th>CodigoRegiao</th>\n",
       "      <th>Regiao</th>\n",
       "      <th>UF</th>\n",
       "      <th>strRazaoSocial</th>\n",
       "      <th>strNomeFantasia</th>\n",
       "      <th>Tipo</th>\n",
       "      <th>NumeroCNPJ</th>\n",
       "      <th>...</th>\n",
       "      <th>CNAEPrincipal</th>\n",
       "      <th>DescCNAEPrincipal</th>\n",
       "      <th>Atendida</th>\n",
       "      <th>CodigoAssunto</th>\n",
       "      <th>DescricaoAssunto</th>\n",
       "      <th>CodigoProblema</th>\n",
       "      <th>DescricaoProblema</th>\n",
       "      <th>SexoConsumidor</th>\n",
       "      <th>FaixaEtariaConsumidor</th>\n",
       "      <th>CEPConsumidor</th>\n",
       "    </tr>\n",
       "  </thead>\n",
       "  <tbody>\n",
       "    <tr>\n",
       "      <th>0</th>\n",
       "      <td>2012</td>\n",
       "      <td>2012-07-13 17:44:45.000</td>\n",
       "      <td>2009-09-17 10:48:42.000</td>\n",
       "      <td>3</td>\n",
       "      <td>Sudeste</td>\n",
       "      <td>ES</td>\n",
       "      <td>IBI PROMOTORA DE VENDAS LTDA.</td>\n",
       "      <td>IBI CARD</td>\n",
       "      <td>1</td>\n",
       "      <td>7.448120e+13</td>\n",
       "      <td>...</td>\n",
       "      <td>7490104.0</td>\n",
       "      <td>ATIVIDADES DE INTERMEDIAÇÃO E AGENCIAMENTO DE ...</td>\n",
       "      <td>N</td>\n",
       "      <td>54</td>\n",
       "      <td>Cartão de Crédito</td>\n",
       "      <td>32</td>\n",
       "      <td>Calculo de prestação em atraso</td>\n",
       "      <td>F</td>\n",
       "      <td>mais de 70 anos</td>\n",
       "      <td>29072040</td>\n",
       "    </tr>\n",
       "    <tr>\n",
       "      <th>1</th>\n",
       "      <td>2012</td>\n",
       "      <td>2012-07-13 17:37:19.000</td>\n",
       "      <td>2009-09-17 10:02:24.000</td>\n",
       "      <td>3</td>\n",
       "      <td>Sudeste</td>\n",
       "      <td>ES</td>\n",
       "      <td>SAMSUNG ELETRONICA DA AMAZONIA LTDA</td>\n",
       "      <td>SAMSUNG</td>\n",
       "      <td>1</td>\n",
       "      <td>2.802730e+11</td>\n",
       "      <td>...</td>\n",
       "      <td>2640000.0</td>\n",
       "      <td>FABRICAÇÃO DE APARELHOS DE RECEPÇÃO, REPRODUÇÃ...</td>\n",
       "      <td>N</td>\n",
       "      <td>101</td>\n",
       "      <td>Telefone ( Convencional, Celular, Interfone, E...</td>\n",
       "      <td>102</td>\n",
       "      <td>Garantia (Abrangência, cobertura, etc.)</td>\n",
       "      <td>M</td>\n",
       "      <td>entre 31 a 40 anos</td>\n",
       "      <td>29115360</td>\n",
       "    </tr>\n",
       "    <tr>\n",
       "      <th>2</th>\n",
       "      <td>2012</td>\n",
       "      <td>2012-07-16 09:07:13.000</td>\n",
       "      <td>2009-09-17 11:36:47.000</td>\n",
       "      <td>3</td>\n",
       "      <td>Sudeste</td>\n",
       "      <td>ES</td>\n",
       "      <td>LINNU''S AUTOMOVEIS LTDA.</td>\n",
       "      <td>LINNUS AUTOMOVEIS</td>\n",
       "      <td>1</td>\n",
       "      <td>3.635548e+13</td>\n",
       "      <td>...</td>\n",
       "      <td>4512902.0</td>\n",
       "      <td>COMÉRCIO SOB CONSIGNAÇÃO DE VEÍCULOS AUTOMOTORES</td>\n",
       "      <td>N</td>\n",
       "      <td>129</td>\n",
       "      <td>Carro Nacional Zero ( Montadora )</td>\n",
       "      <td>111</td>\n",
       "      <td>Venda enganosa</td>\n",
       "      <td>M</td>\n",
       "      <td>entre 21 a 30 anos</td>\n",
       "      <td>29060110</td>\n",
       "    </tr>\n",
       "    <tr>\n",
       "      <th>3</th>\n",
       "      <td>2012</td>\n",
       "      <td>2012-12-10 09:05:09.000</td>\n",
       "      <td>2009-09-21 09:01:49.000</td>\n",
       "      <td>5</td>\n",
       "      <td>Centro-oeste</td>\n",
       "      <td>GO</td>\n",
       "      <td>AMAZON PC INDUSTRIA E COMERCIO DE MICROCOMPUTA...</td>\n",
       "      <td>AMAZON PC</td>\n",
       "      <td>1</td>\n",
       "      <td>1.614079e+12</td>\n",
       "      <td>...</td>\n",
       "      <td>2621300.0</td>\n",
       "      <td>FABRICAÇÃO DE EQUIPAMENTOS DE INFORMÁTICA</td>\n",
       "      <td>S</td>\n",
       "      <td>102</td>\n",
       "      <td>Microcomputador / Produtos de Informática</td>\n",
       "      <td>102</td>\n",
       "      <td>Garantia (Abrangência, cobertura, etc.)</td>\n",
       "      <td>M</td>\n",
       "      <td>entre 21 a 30 anos</td>\n",
       "      <td>75911000</td>\n",
       "    </tr>\n",
       "    <tr>\n",
       "      <th>4</th>\n",
       "      <td>2012</td>\n",
       "      <td>2012-07-13 17:51:01.000</td>\n",
       "      <td>2009-09-18 17:32:22.000</td>\n",
       "      <td>3</td>\n",
       "      <td>Sudeste</td>\n",
       "      <td>ES</td>\n",
       "      <td>OFFICINA REVESTIMENTOS LTDA ME</td>\n",
       "      <td>NaN</td>\n",
       "      <td>1</td>\n",
       "      <td>5.444155e+12</td>\n",
       "      <td>...</td>\n",
       "      <td>4744005.0</td>\n",
       "      <td>COMÉRCIO VAREJISTA DE MATERIAIS DE CONSTRUÇÃO ...</td>\n",
       "      <td>N</td>\n",
       "      <td>118</td>\n",
       "      <td>Material de Acabamento de Construção Pronto (P...</td>\n",
       "      <td>116</td>\n",
       "      <td>Contrato/pedido/orçamento (rescisão, descumpri...</td>\n",
       "      <td>M</td>\n",
       "      <td>Nao Informada</td>\n",
       "      <td>29090120</td>\n",
       "    </tr>\n",
       "  </tbody>\n",
       "</table>\n",
       "<p>5 rows × 23 columns</p>\n",
       "</div>"
      ],
      "text/plain": [
       "   AnoCalendario         DataArquivamento             DataAbertura  \\\n",
       "0           2012  2012-07-13 17:44:45.000  2009-09-17 10:48:42.000   \n",
       "1           2012  2012-07-13 17:37:19.000  2009-09-17 10:02:24.000   \n",
       "2           2012  2012-07-16 09:07:13.000  2009-09-17 11:36:47.000   \n",
       "3           2012  2012-12-10 09:05:09.000  2009-09-21 09:01:49.000   \n",
       "4           2012  2012-07-13 17:51:01.000  2009-09-18 17:32:22.000   \n",
       "\n",
       "   CodigoRegiao        Regiao  UF  \\\n",
       "0             3       Sudeste  ES   \n",
       "1             3       Sudeste  ES   \n",
       "2             3       Sudeste  ES   \n",
       "3             5  Centro-oeste  GO   \n",
       "4             3       Sudeste  ES   \n",
       "\n",
       "                                      strRazaoSocial    strNomeFantasia  Tipo  \\\n",
       "0                      IBI PROMOTORA DE VENDAS LTDA.           IBI CARD     1   \n",
       "1                SAMSUNG ELETRONICA DA AMAZONIA LTDA            SAMSUNG     1   \n",
       "2                          LINNU''S AUTOMOVEIS LTDA.  LINNUS AUTOMOVEIS     1   \n",
       "3  AMAZON PC INDUSTRIA E COMERCIO DE MICROCOMPUTA...          AMAZON PC     1   \n",
       "4                     OFFICINA REVESTIMENTOS LTDA ME                NaN     1   \n",
       "\n",
       "     NumeroCNPJ      ...       CNAEPrincipal  \\\n",
       "0  7.448120e+13      ...           7490104.0   \n",
       "1  2.802730e+11      ...           2640000.0   \n",
       "2  3.635548e+13      ...           4512902.0   \n",
       "3  1.614079e+12      ...           2621300.0   \n",
       "4  5.444155e+12      ...           4744005.0   \n",
       "\n",
       "                                   DescCNAEPrincipal Atendida  CodigoAssunto  \\\n",
       "0  ATIVIDADES DE INTERMEDIAÇÃO E AGENCIAMENTO DE ...        N             54   \n",
       "1  FABRICAÇÃO DE APARELHOS DE RECEPÇÃO, REPRODUÇÃ...        N            101   \n",
       "2   COMÉRCIO SOB CONSIGNAÇÃO DE VEÍCULOS AUTOMOTORES        N            129   \n",
       "3          FABRICAÇÃO DE EQUIPAMENTOS DE INFORMÁTICA        S            102   \n",
       "4  COMÉRCIO VAREJISTA DE MATERIAIS DE CONSTRUÇÃO ...        N            118   \n",
       "\n",
       "                                    DescricaoAssunto CodigoProblema  \\\n",
       "0                                  Cartão de Crédito             32   \n",
       "1  Telefone ( Convencional, Celular, Interfone, E...            102   \n",
       "2                  Carro Nacional Zero ( Montadora )            111   \n",
       "3          Microcomputador / Produtos de Informática            102   \n",
       "4  Material de Acabamento de Construção Pronto (P...            116   \n",
       "\n",
       "                                   DescricaoProblema SexoConsumidor  \\\n",
       "0                     Calculo de prestação em atraso              F   \n",
       "1            Garantia (Abrangência, cobertura, etc.)              M   \n",
       "2                                     Venda enganosa              M   \n",
       "3            Garantia (Abrangência, cobertura, etc.)              M   \n",
       "4  Contrato/pedido/orçamento (rescisão, descumpri...              M   \n",
       "\n",
       "   FaixaEtariaConsumidor CEPConsumidor  \n",
       "0        mais de 70 anos      29072040  \n",
       "1     entre 31 a 40 anos      29115360  \n",
       "2     entre 21 a 30 anos      29060110  \n",
       "3     entre 21 a 30 anos      75911000  \n",
       "4          Nao Informada      29090120  \n",
       "\n",
       "[5 rows x 23 columns]"
      ]
     },
     "execution_count": 5,
     "metadata": {},
     "output_type": "execute_result"
    }
   ],
   "source": [
    "df_reclamacoes_2012.head()"
   ]
  },
  {
   "cell_type": "code",
   "execution_count": 7,
   "metadata": {},
   "outputs": [
    {
     "data": {
      "text/plain": [
       "array([[<matplotlib.axes._subplots.AxesSubplot object at 0x7fd89282e198>]],\n",
       "      dtype=object)"
      ]
     },
     "execution_count": 7,
     "metadata": {},
     "output_type": "execute_result"
    },
    {
     "data": {
      "image/png": "[encoded data removed]",
      "text/plain": [
       "<Figure size 432x288 with 1 Axes>"
      ]
     },
     "metadata": {
      "needs_background": "light"
     },
     "output_type": "display_data"
    }
   ],
   "source": [
    "df_reclamacoes_2012.hist(column='CodigoRegiao')"
   ]
  },
  {
   "cell_type": "code",
   "execution_count": 8,
   "metadata": {},
   "outputs": [
    {
     "data": {
      "text/plain": [
       "array([[<matplotlib.axes._subplots.AxesSubplot object at 0x7fd89286ed30>]],\n",
       "      dtype=object)"
      ]
     },
     "execution_count": 8,
     "metadata": {},
     "output_type": "execute_result"
    },
    {
     "data": {
      "image/png": "[encoded data removed]",
      "text/plain": [
       "<Figure size 432x288 with 1 Axes>"
      ]
     },
     "metadata": {
      "needs_background": "light"
     },
     "output_type": "display_data"
    }
   ],
   "source": [
    "df_reclamacoes_2012.hist(column='CodigoAssunto')"
   ]
  },
  {
   "cell_type": "code",
   "execution_count": 9,
   "metadata": {},
   "outputs": [
    {
     "data": {
      "text/plain": [
       "array([[<matplotlib.axes._subplots.AxesSubplot object at 0x7fd8927b72b0>]],\n",
       "      dtype=object)"
      ]
     },
     "execution_count": 9,
     "metadata": {},
     "output_type": "execute_result"
    },
    {
     "data": {
      "image/png": "[encoded data removed]",
      "text/plain": [
       "<Figure size 432x288 with 1 Axes>"
      ]
     },
     "metadata": {
      "needs_background": "light"
     },
     "output_type": "display_data"
    }
   ],
   "source": [
    "df_reclamacoes_2012.hist(column='CodigoProblema')"
   ]
  },
  {
   "cell_type": "code",
   "execution_count": 10,
   "metadata": {},
   "outputs": [
    {
     "data": {
      "text/plain": [
       "array([[<matplotlib.axes._subplots.AxesSubplot object at 0x7fd8926ad9b0>]],\n",
       "      dtype=object)"
      ]
     },
     "execution_count": 10,
     "metadata": {},
     "output_type": "execute_result"
    },
    {
     "data": {
      "image/png": "[encoded data removed]",
      "text/plain": [
       "<Figure size 432x288 with 1 Axes>"
      ]
     },
     "metadata": {
      "needs_background": "light"
     },
     "output_type": "display_data"
    }
   ],
   "source": [
    "df_reclamacoes_2012['Atendida'] = df_reclamacoes_2012['Atendida'].map({'S' : 1, 'N': 0})\n",
    "df_reclamacoes_2012.hist(column='Atendida')"
   ]
  },
  {
   "cell_type": "code",
   "execution_count": 11,
   "metadata": {},
   "outputs": [
    {
     "data": {
      "text/plain": [
       "<matplotlib.axes._subplots.AxesSubplot at 0x7fd890faa438>"
      ]
     },
     "execution_count": 11,
     "metadata": {},
     "output_type": "execute_result"
    },
    {
     "data": {
      "image/png": "[encoded data removed]",
      "text/plain": [
       "<Figure size 432x288 with 1 Axes>"
      ]
     },
     "metadata": {
      "needs_background": "light"
     },
     "output_type": "display_data"
    }
   ],
   "source": [
    "from collections import Counter\n",
    "age_counter = Counter(df_reclamacoes_2012['FaixaEtariaConsumidor'])\n",
    "df = pd.DataFrame.from_dict(age_counter, orient='index')\n",
    "df.plot(kind='bar')"
   ]
  },
  {
   "cell_type": "code",
   "execution_count": null,
   "metadata": {},
   "outputs": [],
   "source": []
  }
 ],
 "metadata": {
  "kernelspec": {
   "display_name": "Python [conda env:inf618]",
   "language": "python",
   "name": "conda-env-inf618-py"
  },
  "language_info": {
   "codemirror_mode": {
    "name": "ipython",
    "version": 3
   },
   "file_extension": ".py",
   "mimetype": "text/x-python",
   "name": "python",
   "nbconvert_exporter": "python",
   "pygments_lexer": "ipython3",
   "version": "3.6.5"
  }
 },
 "nbformat": 4,
 "nbformat_minor": 2
}
